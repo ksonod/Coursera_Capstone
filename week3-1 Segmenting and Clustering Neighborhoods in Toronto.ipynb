{
 "cells": [
  {
   "cell_type": "markdown",
   "metadata": {},
   "source": [
    "# Segmenting and Clustering Neighborhoods in Toronto (part 1)"
   ]
  },
  {
   "cell_type": "markdown",
   "metadata": {},
   "source": [
    "**Applied Data Science Capstone (week 3)**"
   ]
  },
  {
   "cell_type": "code",
   "execution_count": 1,
   "metadata": {},
   "outputs": [],
   "source": [
    "import numpy as np\n",
    "import pandas as pd\n",
    "import requests\n",
    "from bs4 import BeautifulSoup"
   ]
  },
  {
   "cell_type": "markdown",
   "metadata": {},
   "source": [
    "The Wikipedia page will be obtained and shown."
   ]
  },
  {
   "cell_type": "code",
   "execution_count": 2,
   "metadata": {},
   "outputs": [],
   "source": [
    "wikipedia_link='https://en.wikipedia.org/wiki/List_of_postal_codes_of_Canada:_M'\n",
    "wikipedia_page=requests.get(wikipedia_link) "
   ]
  },
  {
   "cell_type": "markdown",
   "metadata": {},
   "source": [
    "The dataframe will be created.\n",
    "- Only the cells that have an assigned bourough will be processed.\n",
    "- If a cell has a borough but a Not-assigned neighborhood, the neighborhood will be the same as the borough. "
   ]
  },
  {
   "cell_type": "code",
   "execution_count": 3,
   "metadata": {},
   "outputs": [],
   "source": [
    "# define the dataframe columns\n",
    "column_names = ['PostalCode','Borough', 'Neighborhood'] \n",
    "\n",
    "# instantiate the dataframe\n",
    "df = pd.DataFrame(columns=column_names)\n",
    "\n",
    "bs = BeautifulSoup(wikipedia_page.text, 'html.parser')\n",
    "\n",
    "#Initialization of a few parameters.\n",
    "i=1\n",
    "\n",
    "#Preparation of the dataframe\n",
    "for j in bs.select(\"td\"):\n",
    "\n",
    "    if i%3==1:\n",
    "        PCode=j.getText()\n",
    "    elif i%3==2:\n",
    "        Bourough=j.getText()\n",
    "    else:\n",
    "        Neighborhood=j.getText() \n",
    "        omnum=Neighborhood.rfind('\\n')\n",
    "        Neighborhood=Neighborhood[0:omnum] #Omitting \\n.\n",
    "        \n",
    "    if i<=867:\n",
    "        if i%3==0 and Bourough!='Not assigned':# Ignore cells with a borough that is Not assigned\n",
    "            if (i%3==0) and (Neighborhood=='Not assigned'): # If neighborhood is not assigned, the neighborhood will be the same as the borough.\n",
    "                df = df.append({'PostalCode': PCode,'Borough': Bourough,'Neighborhood': Bourough}, ignore_index=True) \n",
    "            else:\n",
    "                df = df.append({'PostalCode': PCode,'Borough': Bourough,'Neighborhood': Neighborhood}, ignore_index=True)\n",
    "    else:\n",
    "        break\n",
    "       \n",
    "    i=i+1"
   ]
  },
  {
   "cell_type": "markdown",
   "metadata": {},
   "source": [
    "A new dataframe will be created.\n",
    "- More than one neighborhood can exist in one postal code area. For example, in the table on the Wikipedia page, you will notice that M5A is listed twice and has two neighborhoods: Harbourfront and Regent Park. These two rows will be combined into one row with the neighborhoods separated with a comma."
   ]
  },
  {
   "cell_type": "code",
   "execution_count": 7,
   "metadata": {},
   "outputs": [
    {
     "data": {
      "text/html": [
       "<div>\n",
       "<style scoped>\n",
       "    .dataframe tbody tr th:only-of-type {\n",
       "        vertical-align: middle;\n",
       "    }\n",
       "\n",
       "    .dataframe tbody tr th {\n",
       "        vertical-align: top;\n",
       "    }\n",
       "\n",
       "    .dataframe thead th {\n",
       "        text-align: right;\n",
       "    }\n",
       "</style>\n",
       "<table border=\"1\" class=\"dataframe\">\n",
       "  <thead>\n",
       "    <tr style=\"text-align: right;\">\n",
       "      <th></th>\n",
       "      <th>PostalCode</th>\n",
       "      <th>Borough</th>\n",
       "      <th>Neighborhood</th>\n",
       "    </tr>\n",
       "  </thead>\n",
       "  <tbody>\n",
       "    <tr>\n",
       "      <th>0</th>\n",
       "      <td>M8Y</td>\n",
       "      <td>Etobicoke</td>\n",
       "      <td>Sunnylea, Royal York South East, The Queensway...</td>\n",
       "    </tr>\n",
       "    <tr>\n",
       "      <th>1</th>\n",
       "      <td>M9V</td>\n",
       "      <td>Etobicoke</td>\n",
       "      <td>Thistletown, South Steeles, Silverstone, Mount...</td>\n",
       "    </tr>\n",
       "    <tr>\n",
       "      <th>2</th>\n",
       "      <td>M5V</td>\n",
       "      <td>Downtown Toronto</td>\n",
       "      <td>South Niagara, Railway Lands, King and Spadina...</td>\n",
       "    </tr>\n",
       "    <tr>\n",
       "      <th>3</th>\n",
       "      <td>M8Z</td>\n",
       "      <td>Etobicoke</td>\n",
       "      <td>South of Bloor, Royal York South West, The Que...</td>\n",
       "    </tr>\n",
       "    <tr>\n",
       "      <th>4</th>\n",
       "      <td>M9B</td>\n",
       "      <td>Etobicoke</td>\n",
       "      <td>West Deane Park, Princess Gardens, Martin Grov...</td>\n",
       "    </tr>\n",
       "    <tr>\n",
       "      <th>5</th>\n",
       "      <td>M4V</td>\n",
       "      <td>Central Toronto</td>\n",
       "      <td>Summerhill West, South Hill, Rathnelly, Forest...</td>\n",
       "    </tr>\n",
       "    <tr>\n",
       "      <th>6</th>\n",
       "      <td>M1V</td>\n",
       "      <td>Scarborough</td>\n",
       "      <td>Steeles East, Milliken, L'Amoreaux East, Aginc...</td>\n",
       "    </tr>\n",
       "    <tr>\n",
       "      <th>7</th>\n",
       "      <td>M9R</td>\n",
       "      <td>Etobicoke</td>\n",
       "      <td>St. Phillips, Richview Gardens, Martin Grove G...</td>\n",
       "    </tr>\n",
       "    <tr>\n",
       "      <th>8</th>\n",
       "      <td>M6M</td>\n",
       "      <td>York</td>\n",
       "      <td>Silverthorn, Mount Dennis, Keelesdale, Del Ray</td>\n",
       "    </tr>\n",
       "    <tr>\n",
       "      <th>9</th>\n",
       "      <td>M9C</td>\n",
       "      <td>Etobicoke</td>\n",
       "      <td>Old Burnhamthorpe, Markland Wood, Eringate, Bl...</td>\n",
       "    </tr>\n",
       "    <tr>\n",
       "      <th>10</th>\n",
       "      <td>M6K</td>\n",
       "      <td>West Toronto</td>\n",
       "      <td>Parkdale Village, Exhibition Place, Brockton</td>\n",
       "    </tr>\n",
       "    <tr>\n",
       "      <th>11</th>\n",
       "      <td>M1T</td>\n",
       "      <td>Scarborough</td>\n",
       "      <td>Tam O'Shanter, Sullivan, Clarks Corners</td>\n",
       "    </tr>\n",
       "    <tr>\n",
       "      <th>12</th>\n",
       "      <td>M5T</td>\n",
       "      <td>Downtown Toronto</td>\n",
       "      <td>Kensington Market, Grange Park, Chinatown</td>\n",
       "    </tr>\n",
       "    <tr>\n",
       "      <th>13</th>\n",
       "      <td>M1P</td>\n",
       "      <td>Scarborough</td>\n",
       "      <td>Wexford Heights, Scarborough Town Centre, Dors...</td>\n",
       "    </tr>\n",
       "    <tr>\n",
       "      <th>14</th>\n",
       "      <td>M1L</td>\n",
       "      <td>Scarborough</td>\n",
       "      <td>Oakridge, Golden Mile, Clairlea</td>\n",
       "    </tr>\n",
       "  </tbody>\n",
       "</table>\n",
       "</div>"
      ],
      "text/plain": [
       "   PostalCode           Borough  \\\n",
       "0         M8Y         Etobicoke   \n",
       "1         M9V         Etobicoke   \n",
       "2         M5V  Downtown Toronto   \n",
       "3         M8Z         Etobicoke   \n",
       "4         M9B         Etobicoke   \n",
       "5         M4V   Central Toronto   \n",
       "6         M1V       Scarborough   \n",
       "7         M9R         Etobicoke   \n",
       "8         M6M              York   \n",
       "9         M9C         Etobicoke   \n",
       "10        M6K      West Toronto   \n",
       "11        M1T       Scarborough   \n",
       "12        M5T  Downtown Toronto   \n",
       "13        M1P       Scarborough   \n",
       "14        M1L       Scarborough   \n",
       "\n",
       "                                         Neighborhood  \n",
       "0   Sunnylea, Royal York South East, The Queensway...  \n",
       "1   Thistletown, South Steeles, Silverstone, Mount...  \n",
       "2   South Niagara, Railway Lands, King and Spadina...  \n",
       "3   South of Bloor, Royal York South West, The Que...  \n",
       "4   West Deane Park, Princess Gardens, Martin Grov...  \n",
       "5   Summerhill West, South Hill, Rathnelly, Forest...  \n",
       "6   Steeles East, Milliken, L'Amoreaux East, Aginc...  \n",
       "7   St. Phillips, Richview Gardens, Martin Grove G...  \n",
       "8      Silverthorn, Mount Dennis, Keelesdale, Del Ray  \n",
       "9   Old Burnhamthorpe, Markland Wood, Eringate, Bl...  \n",
       "10       Parkdale Village, Exhibition Place, Brockton  \n",
       "11            Tam O'Shanter, Sullivan, Clarks Corners  \n",
       "12          Kensington Market, Grange Park, Chinatown  \n",
       "13  Wexford Heights, Scarborough Town Centre, Dors...  \n",
       "14                    Oakridge, Golden Mile, Clairlea  "
      ]
     },
     "execution_count": 7,
     "metadata": {},
     "output_type": "execute_result"
    }
   ],
   "source": [
    "# define the dataframe columns\n",
    "column_names = ['PostalCode','Borough', 'Neighborhood'] \n",
    "\n",
    "# instantiate the dataframe\n",
    "df_new = pd.DataFrame(columns=column_names)\n",
    "PostalCodeList=df['PostalCode'].value_counts().index\n",
    "df_new['PostalCode']=PostalCodeList\n",
    "\n",
    "##\n",
    "num_df=df.shape[0]\n",
    "num_PostalCode=df['PostalCode'].value_counts().shape[0]\n",
    "\n",
    "for j1 in np.linspace(0,num_PostalCode-1,num_PostalCode):\n",
    "    num=0\n",
    "    for j2 in np.linspace(0,num_df-1,num_df):\n",
    "        if df['PostalCode'][j2]==df_new['PostalCode'][j1]: \n",
    "            df_new['Borough'][j1]=df['Borough'][j2]\n",
    "            if num==0:\n",
    "                df_new['Neighborhood'][j1]=df['Neighborhood'][j2]\n",
    "            else:\n",
    "                df_new['Neighborhood'][j1]=df['Neighborhood'][j2] + ', ' + df_new['Neighborhood'][j1]\n",
    "            num=num+1\n",
    "\n",
    "df_new.head(15)"
   ]
  },
  {
   "cell_type": "markdown",
   "metadata": {},
   "source": [
    "The number of rows will be shown:"
   ]
  },
  {
   "cell_type": "code",
   "execution_count": 6,
   "metadata": {},
   "outputs": [
    {
     "data": {
      "text/plain": [
       "103"
      ]
     },
     "execution_count": 6,
     "metadata": {},
     "output_type": "execute_result"
    }
   ],
   "source": [
    "df_new.shape[0]"
   ]
  }
 ],
 "metadata": {
  "kernelspec": {
   "display_name": "Python 3",
   "language": "python",
   "name": "python3"
  },
  "language_info": {
   "codemirror_mode": {
    "name": "ipython",
    "version": 3
   },
   "file_extension": ".py",
   "mimetype": "text/x-python",
   "name": "python",
   "nbconvert_exporter": "python",
   "pygments_lexer": "ipython3",
   "version": "3.7.1"
  },
  "toc": {
   "base_numbering": 1,
   "nav_menu": {},
   "number_sections": true,
   "sideBar": true,
   "skip_h1_title": false,
   "title_cell": "Table of Contents",
   "title_sidebar": "Contents",
   "toc_cell": false,
   "toc_position": {},
   "toc_section_display": true,
   "toc_window_display": false
  }
 },
 "nbformat": 4,
 "nbformat_minor": 2
}
