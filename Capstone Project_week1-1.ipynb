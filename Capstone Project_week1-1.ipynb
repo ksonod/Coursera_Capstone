{
 "cells": [
  {
   "cell_type": "markdown",
   "metadata": {},
   "source": [
    "# About this notebook"
   ]
  },
  {
   "cell_type": "markdown",
   "metadata": {},
   "source": [
    "This notebook is made for the 4-th week's assignment of the Coursera course \"Applied Data Science Capstone.\" This notebook will give you a brief introduction."
   ]
  },
  {
   "cell_type": "markdown",
   "metadata": {},
   "source": [
    "Zurich is one of the largest cities in Switzerland. Lately, Japanese food can be easily found in the supermarkets of Zurich. This fact implies that people are getting more interested in Japanese cuisine. Considering this fact, opening a new Japanese restaurant in Zurich would be a good idea. However, there are already some Japanese restaurants in Zurich. Hence, it is important, especially for people who are interested in opening a new Japanese restaurant in Zurich, to know which area is less competitive. In this capstone project, I will show which district of Zurich is the best for opening a new Japanese restaurant."
   ]
  }
 ],
 "metadata": {
  "kernelspec": {
   "display_name": "Python 3",
   "language": "python",
   "name": "python3"
  },
  "language_info": {
   "codemirror_mode": {
    "name": "ipython",
    "version": 3
   },
   "file_extension": ".py",
   "mimetype": "text/x-python",
   "name": "python",
   "nbconvert_exporter": "python",
   "pygments_lexer": "ipython3",
   "version": "3.7.1"
  },
  "toc": {
   "base_numbering": 1,
   "nav_menu": {},
   "number_sections": true,
   "sideBar": true,
   "skip_h1_title": false,
   "title_cell": "Table of Contents",
   "title_sidebar": "Contents",
   "toc_cell": false,
   "toc_position": {},
   "toc_section_display": true,
   "toc_window_display": false
  }
 },
 "nbformat": 4,
 "nbformat_minor": 2
}
